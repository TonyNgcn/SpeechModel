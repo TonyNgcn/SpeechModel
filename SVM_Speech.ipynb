{
  "nbformat": 4,
  "nbformat_minor": 0,
  "metadata": {
    "colab": {
      "name": "SVM Speech.ipynb",
      "version": "0.3.2",
      "provenance": [],
      "collapsed_sections": [],
      "include_colab_link": true
    },
    "kernelspec": {
      "name": "python3",
      "display_name": "Python 3"
    }
  },
  "cells": [
    {
      "cell_type": "markdown",
      "metadata": {
        "id": "view-in-github",
        "colab_type": "text"
      },
      "source": [
        "[View in Colaboratory](https://colab.research.google.com/github/TonyNgcn/dataCollect/blob/master/SVM_Speech.ipynb)"
      ]
    },
    {
      "metadata": {
        "id": "n3e90Vn37_6s",
        "colab_type": "code",
        "colab": {
          "base_uri": "https://localhost:8080/",
          "height": 635
        },
        "outputId": "c31a3794-d1b2-4e6e-92ef-20b34f22bb28"
      },
      "cell_type": "code",
      "source": [
        "import numpy as np\n",
        "from sklearn import svm\n",
        "from sklearn.model_selection import train_test_split\n",
        "from sklearn import preprocessing\n",
        "from sklearn.externals import joblib\n",
        "\n",
        "path='https://github.com/TonyNgcn/dataCollect/raw/master/training.data'\n",
        "data=np.loadtxt(path,dtype=float) #读取数据\n",
        "np.random.shuffle(data) #打乱数据\n",
        "\n",
        "#划分数据,分成训练集，测试集，验证集\n",
        "x, y = np.split(data, (6,), axis=1)\n",
        "x_train, x_test, y_train, y_test = train_test_split(x, y, random_state=0, train_size=0.6)\n",
        "x_test, x_validation, y_test, y_validation=train_test_split(x_test, y_test, random_state=0, train_size=0.5)\n",
        "\n",
        "#数据归一化\n",
        "scaler = preprocessing.StandardScaler().fit(x_train)  #保存训练集的标准差和均值\n",
        "x_train=scaler.transform(x_train) #训练集数据归一化\n",
        "x_test=scaler.transform(x_test)   #测试集使用训练集数据归一化\n",
        "x_validation=scaler.transform(x_validation) #验证集使用训练集数据归一化\n",
        "\n",
        "'''\n",
        "#从2^-5-2^15区间中寻找最优C值，从2^-15-2^3区间寻找最优γ值\n",
        "CScale = [-5, -3, -1, 1, 3, 5, 7, 9, 11, 13, 15]\n",
        "score={'c':0.0,'g':0.0,'score':0.0}\n",
        "for Cindex,c in enumerate(CScale):\n",
        "\t\tclf = svm.SVC(C=pow(2,c), kernel='rbf', gamma=7.464263932294464, decision_function_shape='ovo')\n",
        "\t\tclf.fit(x_train, y_train.ravel())\n",
        "\t\tresult=clf.score(x_test, y_test)\n",
        "\t\tif result>score['score']:\n",
        "\t\t\tscore['c']=Cindex\n",
        "\t\t\tscore['score']=result\n",
        "\n",
        "\n",
        "n = 10\n",
        "minCScale = 0.5*(CScale[int(max(0,score['c']-1))]+CScale[int(score['c'])])\n",
        "maxCScale = 0.5*(CScale[int(min(len(CScale)-1,score['c']+1))]+CScale[int(score['c'])])\n",
        "newCScale=np.arange(minCScale,maxCScale,(maxCScale-minCScale)/n)\n",
        "print(newCScale)\n",
        "\n",
        "score['score']=0.0\n",
        "for c in newCScale:\n",
        "\t#for g in newgammaScale:\n",
        "\t\tclf = svm.SVC(C=pow(2, c), kernel='rbf', gamma=7.464263932294464, decision_function_shape='ovo')\n",
        "\t\tclf.fit(x_train, y_train.ravel())\n",
        "\t\tresult=clf.score(x_test, y_test)\n",
        "\t\tif result>score['score']:\n",
        "\t\t\tscore['c']=pow(2,c)\n",
        "\t\t\tscore['score']=result\n",
        "  \n",
        "print('bestC',score['c'])\n",
        "'''\n",
        "\n",
        "##bestC 0.8705505632961239 bestgamma:7.464263932294464\n",
        "\n",
        "#clf = svm.SVC(C=score['c'], kernel='rbf', gamma=score['g'], decision_function_shape='ovo')\n",
        "clf = svm.SVC(C=0.8705505632961239, kernel='rbf', gamma=7.464263932294464, decision_function_shape='ovo')\n",
        "clf.fit(x_train, y_train.ravel())\n",
        "\n",
        "#查看结果\n",
        "print(\"训练集精度\")\n",
        "print(clf.score(x_train, y_train))\n",
        "print(\"测试集精度\")\n",
        "print(clf.score(x_test, y_test))\n",
        "joblib.dump(clf, 'svm_train.pkl')\n"
      ],
      "execution_count": 10,
      "outputs": [
        {
          "output_type": "stream",
          "text": [
            "/usr/local/lib/python3.6/dist-packages/sklearn/model_selection/_split.py:2026: FutureWarning: From version 0.21, test_size will always complement train_size unless both are specified.\n",
            "  FutureWarning)\n"
          ],
          "name": "stderr"
        },
        {
          "output_type": "stream",
          "text": [
            "训练集精度\n",
            "0.8398341179107823\n",
            "测试集精度\n",
            "0.768101322573414\n"
          ],
          "name": "stdout"
        },
        {
          "output_type": "error",
          "ename": "MessageError",
          "evalue": "ignored",
          "traceback": [
            "\u001b[0;31m---------------------------------------------------------------------------\u001b[0m",
            "\u001b[0;31mMessageError\u001b[0m                              Traceback (most recent call last)",
            "\u001b[0;32m<ipython-input-10-86a57b3488a1>\u001b[0m in \u001b[0;36m<module>\u001b[0;34m()\u001b[0m\n\u001b[1;32m     64\u001b[0m \u001b[0mjoblib\u001b[0m\u001b[0;34m.\u001b[0m\u001b[0mdump\u001b[0m\u001b[0;34m(\u001b[0m\u001b[0mclf\u001b[0m\u001b[0;34m,\u001b[0m \u001b[0;34m'svm_train.pkl'\u001b[0m\u001b[0;34m)\u001b[0m\u001b[0;34m\u001b[0m\u001b[0m\n\u001b[1;32m     65\u001b[0m \u001b[0;32mfrom\u001b[0m \u001b[0mgoogle\u001b[0m\u001b[0;34m.\u001b[0m\u001b[0mcolab\u001b[0m \u001b[0;32mimport\u001b[0m \u001b[0mfiles\u001b[0m\u001b[0;34m\u001b[0m\u001b[0m\n\u001b[0;32m---> 66\u001b[0;31m \u001b[0mfiles\u001b[0m\u001b[0;34m.\u001b[0m\u001b[0mdownload\u001b[0m\u001b[0;34m(\u001b[0m\u001b[0;34m'svm_train.pkl'\u001b[0m\u001b[0;34m)\u001b[0m\u001b[0;34m\u001b[0m\u001b[0m\n\u001b[0m",
            "\u001b[0;32m/usr/local/lib/python3.6/dist-packages/google/colab/files.py\u001b[0m in \u001b[0;36mdownload\u001b[0;34m(filename)\u001b[0m\n\u001b[1;32m    174\u001b[0m       \u001b[0;34m'port'\u001b[0m\u001b[0;34m:\u001b[0m \u001b[0mport\u001b[0m\u001b[0;34m,\u001b[0m\u001b[0;34m\u001b[0m\u001b[0m\n\u001b[1;32m    175\u001b[0m       \u001b[0;34m'path'\u001b[0m\u001b[0;34m:\u001b[0m \u001b[0mos\u001b[0m\u001b[0;34m.\u001b[0m\u001b[0mpath\u001b[0m\u001b[0;34m.\u001b[0m\u001b[0mabspath\u001b[0m\u001b[0;34m(\u001b[0m\u001b[0mfilename\u001b[0m\u001b[0;34m)\u001b[0m\u001b[0;34m,\u001b[0m\u001b[0;34m\u001b[0m\u001b[0m\n\u001b[0;32m--> 176\u001b[0;31m       \u001b[0;34m'name'\u001b[0m\u001b[0;34m:\u001b[0m \u001b[0mos\u001b[0m\u001b[0;34m.\u001b[0m\u001b[0mpath\u001b[0m\u001b[0;34m.\u001b[0m\u001b[0mbasename\u001b[0m\u001b[0;34m(\u001b[0m\u001b[0mfilename\u001b[0m\u001b[0;34m)\u001b[0m\u001b[0;34m,\u001b[0m\u001b[0;34m\u001b[0m\u001b[0m\n\u001b[0m\u001b[1;32m    177\u001b[0m   })\n",
            "\u001b[0;32m/usr/local/lib/python3.6/dist-packages/google/colab/output/_js.py\u001b[0m in \u001b[0;36meval_js\u001b[0;34m(script, ignore_result)\u001b[0m\n\u001b[1;32m     37\u001b[0m   \u001b[0;32mif\u001b[0m \u001b[0mignore_result\u001b[0m\u001b[0;34m:\u001b[0m\u001b[0;34m\u001b[0m\u001b[0m\n\u001b[1;32m     38\u001b[0m     \u001b[0;32mreturn\u001b[0m\u001b[0;34m\u001b[0m\u001b[0m\n\u001b[0;32m---> 39\u001b[0;31m   \u001b[0;32mreturn\u001b[0m \u001b[0m_message\u001b[0m\u001b[0;34m.\u001b[0m\u001b[0mread_reply_from_input\u001b[0m\u001b[0;34m(\u001b[0m\u001b[0mrequest_id\u001b[0m\u001b[0;34m)\u001b[0m\u001b[0;34m\u001b[0m\u001b[0m\n\u001b[0m\u001b[1;32m     40\u001b[0m \u001b[0;34m\u001b[0m\u001b[0m\n\u001b[1;32m     41\u001b[0m \u001b[0;34m\u001b[0m\u001b[0m\n",
            "\u001b[0;32m/usr/local/lib/python3.6/dist-packages/google/colab/_message.py\u001b[0m in \u001b[0;36mread_reply_from_input\u001b[0;34m(message_id, timeout_sec)\u001b[0m\n\u001b[1;32m    104\u001b[0m         reply.get('colab_msg_id') == message_id):\n\u001b[1;32m    105\u001b[0m       \u001b[0;32mif\u001b[0m \u001b[0;34m'error'\u001b[0m \u001b[0;32min\u001b[0m \u001b[0mreply\u001b[0m\u001b[0;34m:\u001b[0m\u001b[0;34m\u001b[0m\u001b[0m\n\u001b[0;32m--> 106\u001b[0;31m         \u001b[0;32mraise\u001b[0m \u001b[0mMessageError\u001b[0m\u001b[0;34m(\u001b[0m\u001b[0mreply\u001b[0m\u001b[0;34m[\u001b[0m\u001b[0;34m'error'\u001b[0m\u001b[0;34m]\u001b[0m\u001b[0;34m)\u001b[0m\u001b[0;34m\u001b[0m\u001b[0m\n\u001b[0m\u001b[1;32m    107\u001b[0m       \u001b[0;32mreturn\u001b[0m \u001b[0mreply\u001b[0m\u001b[0;34m.\u001b[0m\u001b[0mget\u001b[0m\u001b[0;34m(\u001b[0m\u001b[0;34m'data'\u001b[0m\u001b[0;34m,\u001b[0m \u001b[0;32mNone\u001b[0m\u001b[0;34m)\u001b[0m\u001b[0;34m\u001b[0m\u001b[0m\n\u001b[1;32m    108\u001b[0m \u001b[0;34m\u001b[0m\u001b[0m\n",
            "\u001b[0;31mMessageError\u001b[0m: TypeError: Failed to fetch"
          ]
        }
      ]
    },
    {
      "metadata": {
        "id": "it3IeV5yjF8f",
        "colab_type": "code",
        "colab": {}
      },
      "cell_type": "code",
      "source": [
        "from google.colab import files\n",
        "files.download('svm_train.pkl')"
      ],
      "execution_count": 0,
      "outputs": []
    }
  ]
}