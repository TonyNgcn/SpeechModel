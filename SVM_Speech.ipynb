{
  "nbformat": 4,
  "nbformat_minor": 0,
  "metadata": {
    "colab": {
      "name": "SVM Speech.ipynb",
      "version": "0.3.2",
      "provenance": [],
      "collapsed_sections": [],
      "include_colab_link": true
    },
    "kernelspec": {
      "name": "python3",
      "display_name": "Python 3"
    },
    "accelerator": "GPU"
  },
  "cells": [
    {
      "cell_type": "markdown",
      "metadata": {
        "id": "view-in-github",
        "colab_type": "text"
      },
      "source": [
        "[View in Colaboratory](https://colab.research.google.com/github/TonyNgcn/dataCollect/blob/master/SVM_Speech.ipynb)"
      ]
    },
    {
      "metadata": {
        "id": "n3e90Vn37_6s",
        "colab_type": "code",
        "colab": {
          "base_uri": "https://localhost:8080/",
          "height": 50
        },
        "outputId": "5344dea3-2633-4d83-ae0f-c1b7204ebfcb"
      },
      "cell_type": "code",
      "source": [
        "import numpy as np\n",
        "from sklearn import svm\n",
        "from sklearn.model_selection import train_test_split\n",
        "from sklearn import preprocessing\n",
        "\n",
        "#path = 'https://svm-1255693559.cos.ap-chengdu.myqcloud.com/training.data?sign=q-sign-algorithm%3Dsha1%26q-ak%3DAKID6BF4Q0Ucn6PcOedrAGM0ajaMsPQW0G5i%26q-sign-time%3D1533286219%3B1533288019%26q-key-time%3D1533286219%3B1533288019%26q-header-list%3D%26q-url-param-list%3D%26q-signature%3Dd14986f4ec8a8901aa52d528d1f0ecc2d58aca44&token=608966e810bcb8a89eccae40002a672efa14cc0110001&clientIP=113.105.128.66&clientUA=68f51092-4c6f-4e17-9b3f-66314df9946f'  # 数据文件路径\n",
        "#path='https://svm-1255693559.cos.ap-chengdu.myqcloud.com/training.data?sign=q-sign-algorithm%3Dsha1%26q-ak%3DAKID8tsSgVoTcLh51ORhJEMwZudnz28si0Lj%26q-sign-time%3D1533288799%3B1533290599%26q-key-time%3D1533288799%3B1533290599%26q-header-list%3D%26q-url-param-list%3D%26q-signature%3Dc6c5b0e92c31f52c3b20ab2aef26c1ceea94e206&token=4ff063d9bb0f281aef1e7571d08be1bc6f7c94aa10001&clientIP=89.34.26.177&clientUA=0d60e6cf-6c7c-4cea-a7d6-d36be89e7835'\n",
        "!wget https://github.com/TonyNgcn/dataCollect/blob/master/training.data\n",
        "path=\"training.data\"\n",
        "data=np.loadtxt(path,dtype=float) #读取数据\n",
        "np.random.shuffle(data) #打乱数据\n",
        "\n",
        "#划分数据\n",
        "x, y = np.split(data, (6,), axis=1)\n",
        "x_train, x_test, y_train, y_test = train_test_split(x, y, random_state=0, train_size=0.5)\n",
        "\n",
        "#数据归一化\n",
        "scaler = preprocessing.StandardScaler().fit(x_train)  #保存训练集的标准差和均值\n",
        "x_train=scaler.transform(x_train) #训练集数据归一化\n",
        "x_test=scaler.transform(x_test)   #测试集使用训练集数据归一化\n",
        "'''\n",
        "#从2^-5-2^15区间中寻找最优C值，从2^-15-2^3区间寻找最优γ值\n",
        "CScale = [-5, -3, -1, 1, 3, 5, 7, 9, 11, 13, 15]\n",
        "gammaScale = [-15, -13, -11, -9, -7, -5,-3,-1,1,3]\n",
        "score={'c':0.0,'g':0.0,'score':0.0}\n",
        "for Cindex,c in enumerate(CScale):\n",
        "\tfor Gindex,g in enumerate(gammaScale):\n",
        "\t\tclf = svm.SVC(C=pow(2,c), kernel='rbf', gamma=pow(2,g), decision_function_shape='ovo')\n",
        "\t\tclf.fit(x_train, y_train.ravel())\n",
        "\t\tresult=clf.score(x_train, y_train)\n",
        "\t\tif result>score['score']:\n",
        "\t\t\tscore['c']=Cindex\n",
        "\t\t\tscore['g']=Gindex\n",
        "\t\t\tscore['score']=result\n",
        "\n",
        "\n",
        "\n",
        "n = 10\n",
        "minCScale = 0.5*(CScale[int(max(0,score['c']-1))]+CScale[int(score['c'])])\n",
        "maxCScale = 0.5*(CScale[int(min(len(CScale)-1,score['c']+1))]+CScale[int(score['c'])])\n",
        "newCScale=np.arange(minCScale,maxCScale,(maxCScale-minCScale)/n)\n",
        "print(newCScale)\n",
        "mingammaScale = 0.5*(gammaScale[int(max(0,score['g']-1))]+gammaScale[int(score['g'])])\n",
        "maxgammaScale = 0.5*(gammaScale[int(min(len(gammaScale)-1,score['g']+1))]+gammaScale[int(score['g'])])\n",
        "newgammaScale=np.arange(mingammaScale,maxgammaScale,(maxgammaScale-mingammaScale)/n)\n",
        "print(newgammaScale)\n",
        "\n",
        "score['score']=0.0\n",
        "for c in newCScale:\n",
        "\tfor g in newgammaScale:\n",
        "\t\tclf = svm.SVC(C=pow(2,c), kernel='rbf', gamma=pow(2,g), decision_function_shape='ovo')\n",
        "\t\tclf.fit(x_train, y_train.ravel())\n",
        "\t\tresult=clf.score(x_train, y_train)\n",
        "\t\tif result>score['score']:\n",
        "\t\t\tscore['c']=pow(2,c)\n",
        "\t\t\tscore['g']=pow(2,g)\n",
        "\t\t\tscore['score']=result\n",
        "\n",
        "print('bestC:'+str(score['c'])+' bestgamma:'+str(score['g']))\n",
        "'''\n",
        "#bestC:8191.99999999998 bestgamma:7.464263932294464\n",
        "#clf = svm.SVC(C=score['c'], kernel='rbf', gamma=score['g'], decision_function_shape='ovo')\n",
        "clf = svm.SVC(C=8191.99999999998, kernel='rbf', gamma=7.464263932294464, decision_function_shape='ovo')\n",
        "clf.fit(x_train, y_train.ravel())\n",
        "\n",
        "print(\"查看结果\")\n",
        "#查看结果\n",
        "print(\"训练集精度\")\n",
        "print(clf.score(x_train, y_train))\n",
        "print(\"测试集精度\")\n",
        "print(clf.score(x_test, y_test))\n"
      ],
      "execution_count": 0,
      "outputs": [
        {
          "output_type": "stream",
          "text": [
            "/usr/local/lib/python3.6/dist-packages/sklearn/model_selection/_split.py:2026: FutureWarning: From version 0.21, test_size will always complement train_size unless both are specified.\n",
            "  FutureWarning)\n"
          ],
          "name": "stderr"
        }
      ]
    }
  ]
}